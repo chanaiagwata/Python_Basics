{
  "nbformat": 4,
  "nbformat_minor": 0,
  "metadata": {
    "colab": {
      "provenance": [],
      "authorship_tag": "ABX9TyOnbet/micFAlxW+suByHaK",
      "include_colab_link": true
    },
    "kernelspec": {
      "name": "python3",
      "display_name": "Python 3"
    },
    "language_info": {
      "name": "python"
    }
  },
  "cells": [
    {
      "cell_type": "markdown",
      "metadata": {
        "id": "view-in-github",
        "colab_type": "text"
      },
      "source": [
        "<a href=\"https://colab.research.google.com/github/chanaiagwata/Python_Basics/blob/main/02_data_types.ipynb\" target=\"_parent\"><img src=\"https://colab.research.google.com/assets/colab-badge.svg\" alt=\"Open In Colab\"/></a>"
      ]
    },
    {
      "cell_type": "code",
      "execution_count": 8,
      "metadata": {
        "colab": {
          "base_uri": "https://localhost:8080/"
        },
        "id": "EP36L4CxBjet",
        "outputId": "dad012b8-4a90-47ec-83bd-af8a72b46ed5"
      },
      "outputs": [
        {
          "output_type": "stream",
          "name": "stdout",
          "text": [
            "<class 'int'>\n",
            "<class 'float'>\n",
            "<class 'str'>\n"
          ]
        }
      ],
      "source": [
        "# Print the type of 42, 3.14, and 'hello'.\n",
        "print(type(42))\n",
        "print(type(3.14))\n",
        "print(type('hello'))"
      ]
    },
    {
      "cell_type": "code",
      "source": [
        "# Convert a string '100' to an integer.\n",
        "\n",
        "hundred_string = '100'\n",
        "hundred_string2= int(hundred_string)\n",
        "print(hundred_string2)"
      ],
      "metadata": {
        "colab": {
          "base_uri": "https://localhost:8080/"
        },
        "id": "Hgcue6HvElOL",
        "outputId": "cd7c119d-fdf3-4d37-e2ed-283f2a48374c"
      },
      "execution_count": 17,
      "outputs": [
        {
          "output_type": "stream",
          "name": "stdout",
          "text": [
            "100\n"
          ]
        }
      ]
    },
    {
      "cell_type": "code",
      "source": [
        "# Add an integer and a float together. What is the result?\n",
        "num1 = 34\n",
        "flt1 = 34.5\n",
        "# print(sum(num1+flt1))\n",
        "num1+flt1"
      ],
      "metadata": {
        "colab": {
          "base_uri": "https://localhost:8080/"
        },
        "id": "CNqepg2eEX0n",
        "outputId": "38711de6-49b8-4c2a-d220-ef7924c972bc"
      },
      "execution_count": 24,
      "outputs": [
        {
          "output_type": "execute_result",
          "data": {
            "text/plain": [
              "68.5"
            ]
          },
          "metadata": {},
          "execution_count": 24
        }
      ]
    },
    {
      "cell_type": "code",
      "source": [
        "# What happens when you try to multiply a string by a number?\n",
        "strr = 'hello'\n",
        "num1 = 23\n",
        "strr*num1"
      ],
      "metadata": {
        "colab": {
          "base_uri": "https://localhost:8080/",
          "height": 36
        },
        "id": "BcPbLQNIFsA1",
        "outputId": "d5375d6d-323b-4698-fbe2-bc2fab39996f"
      },
      "execution_count": 26,
      "outputs": [
        {
          "output_type": "execute_result",
          "data": {
            "text/plain": [
              "'hellohellohellohellohellohellohellohellohellohellohellohellohellohellohellohellohellohellohellohellohellohellohello'"
            ],
            "application/vnd.google.colaboratory.intrinsic+json": {
              "type": "string"
            }
          },
          "metadata": {},
          "execution_count": 26
        }
      ]
    },
    {
      "cell_type": "code",
      "source": [
        "# Challenge\n",
        "# Write a program that:\n",
        "\n",
        "# Asks the user to enter two numbers (as strings)\n",
        "# Converts them to integers or floats\n",
        "# Prints their sum and type\n",
        "num1 = input(str('number_one'))\n",
        "num2 = input(str('number_two'))\n",
        "print(f\"The sum is {(int(num1)+int(num2))} and type is {type(int(num1)+int(num2))}\")"
      ],
      "metadata": {
        "colab": {
          "base_uri": "https://localhost:8080/"
        },
        "id": "vDLx1oGVHHco",
        "outputId": "1c8e73b9-9157-4e16-b3aa-efb07c7de13e"
      },
      "execution_count": 29,
      "outputs": [
        {
          "output_type": "stream",
          "name": "stdout",
          "text": [
            "number_one2\n",
            "number_two3\n",
            "The sum is 5 and type is <class 'int'> \n"
          ]
        }
      ]
    },
    {
      "cell_type": "code",
      "source": [],
      "metadata": {
        "id": "eWEEJ9sOG0qJ"
      },
      "execution_count": null,
      "outputs": []
    }
  ]
}