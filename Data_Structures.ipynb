{
  "nbformat": 4,
  "nbformat_minor": 0,
  "metadata": {
    "colab": {
      "provenance": [],
      "authorship_tag": "ABX9TyMB5V8ImPTpa1556n+mN3Qt",
      "include_colab_link": true
    },
    "kernelspec": {
      "name": "python3",
      "display_name": "Python 3"
    },
    "language_info": {
      "name": "python"
    }
  },
  "cells": [
    {
      "cell_type": "markdown",
      "metadata": {
        "id": "view-in-github",
        "colab_type": "text"
      },
      "source": [
        "<a href=\"https://colab.research.google.com/github/chanaiagwata/Python_Basics/blob/main/Data_Structures.ipynb\" target=\"_parent\"><img src=\"https://colab.research.google.com/assets/colab-badge.svg\" alt=\"Open In Colab\"/></a>"
      ]
    },
    {
      "cell_type": "code",
      "execution_count": 1,
      "metadata": {
        "colab": {
          "base_uri": "https://localhost:8080/"
        },
        "id": "xLmW1tz8JKVu",
        "outputId": "94866b55-3bf0-4b88-e0cb-c49e0ac93f86"
      },
      "outputs": [
        {
          "output_type": "stream",
          "name": "stdout",
          "text": [
            "passion\n"
          ]
        }
      ],
      "source": [
        "# Data Structures\n",
        "# Create a list of 5 fruits and print the third fruit.\n",
        "\n",
        "fruits = ['mango','banana','passion','apple', 'grapes']\n",
        "print(fruits[2])"
      ]
    },
    {
      "cell_type": "code",
      "source": [
        "# Create a dictionary with keys: name, age. Print the value of age.\n",
        "\n",
        "dict1 = {\n",
        "    'name':'Chanai',\n",
        "    'age':28\n",
        "}\n",
        "dict1['age']"
      ],
      "metadata": {
        "colab": {
          "base_uri": "https://localhost:8080/"
        },
        "id": "ZDLurjPzJpaN",
        "outputId": "6ce07407-9d89-4799-9299-9ee21c02f6de"
      },
      "execution_count": 3,
      "outputs": [
        {
          "output_type": "execute_result",
          "data": {
            "text/plain": [
              "28"
            ]
          },
          "metadata": {},
          "execution_count": 3
        }
      ]
    },
    {
      "cell_type": "code",
      "source": [
        "# Define a tuple with three numbers. Try modifying it. What happens?\n",
        "tple = (2,3,5)\n",
        "tple2 =  str(tple[1])\n",
        "type(tple2[0])"
      ],
      "metadata": {
        "colab": {
          "base_uri": "https://localhost:8080/"
        },
        "id": "Bu2DO-riLsuU",
        "outputId": "bae2ae14-d387-4775-8d31-3e78730e20e4"
      },
      "execution_count": 11,
      "outputs": [
        {
          "output_type": "execute_result",
          "data": {
            "text/plain": [
              "str"
            ]
          },
          "metadata": {},
          "execution_count": 11
        }
      ]
    },
    {
      "cell_type": "code",
      "source": [
        "# Create a set from a list with duplicate values.\n",
        "list1 = [2,3,\"hello\", 6]\n",
        "set1 = set(list1)\n",
        "print(set1)"
      ],
      "metadata": {
        "colab": {
          "base_uri": "https://localhost:8080/"
        },
        "id": "V322U9daNUbX",
        "outputId": "167b91bd-aa3e-4aef-f626-6656e8545a48"
      },
      "execution_count": 16,
      "outputs": [
        {
          "output_type": "stream",
          "name": "stdout",
          "text": [
            "{2, 3, 6, 'hello'}\n"
          ]
        }
      ]
    },
    {
      "cell_type": "code",
      "source": [
        "# Challenge\n",
        "# Create a program that:\n",
        "# Takes 5 user inputs and stores them in a list\n",
        "# Converts the list into a set and prints the unique values\n",
        "input1 = input('Value1')\n",
        "input2 = input('Value2')\n",
        "input3 = input('Value3')\n",
        "input4 = input('Value4')\n",
        "input5 = input('Value5')\n",
        "List1 = [input1,input2,input3,input4,input5]\n",
        "set1 = set(List1)\n",
        "print(set1)"
      ],
      "metadata": {
        "colab": {
          "base_uri": "https://localhost:8080/"
        },
        "id": "tvObX6r4SYFR",
        "outputId": "3b42d9a1-dab0-4d82-b752-896367cc4fa1"
      },
      "execution_count": 18,
      "outputs": [
        {
          "output_type": "stream",
          "name": "stdout",
          "text": [
            "Value11\n",
            "Value22\n",
            "Value33\n",
            "Value44\n",
            "Value55\n",
            "{'4', '2', '1', '5', '3'}\n"
          ]
        }
      ]
    },
    {
      "cell_type": "code",
      "source": [],
      "metadata": {
        "id": "i4pGv7j8Sgpd"
      },
      "execution_count": null,
      "outputs": []
    }
  ]
}