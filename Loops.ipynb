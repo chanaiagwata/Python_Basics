{
  "cells": [
    {
      "cell_type": "markdown",
      "metadata": {
        "id": "view-in-github",
        "colab_type": "text"
      },
      "source": [
        "<a href=\"https://colab.research.google.com/github/chanaiagwata/Python_Basics/blob/main/Loops.ipynb\" target=\"_parent\"><img src=\"https://colab.research.google.com/assets/colab-badge.svg\" alt=\"Open In Colab\"/></a>"
      ]
    },
    {
      "cell_type": "code",
      "execution_count": null,
      "metadata": {
        "colab": {
          "base_uri": "https://localhost:8080/"
        },
        "id": "ZModnWQ3UQvr",
        "outputId": "c56b30be-71dd-4de6-c531-3bcda7c7f11e"
      },
      "outputs": [
        {
          "name": "stdout",
          "output_type": "stream",
          "text": [
            "1\n",
            "2\n",
            "3\n",
            "4\n",
            "5\n",
            "6\n",
            "7\n",
            "8\n",
            "9\n",
            "10\n"
          ]
        }
      ],
      "source": [
        "# Use a for loop to print numbers from 1 to 10.\n",
        "\n",
        "for i in range (1,11):\n",
        "  print (i)"
      ]
    },
    {
      "cell_type": "code",
      "execution_count": 12,
      "metadata": {
        "colab": {
          "base_uri": "https://localhost:8080/"
        },
        "id": "egHXOePjU2sI",
        "outputId": "9e8c03a8-77d8-46a2-f359-466fe2604294"
      },
      "outputs": [
        {
          "name": "stdout",
          "output_type": "stream",
          "text": [
            "Enter a number(or stop to quit)1\n",
            "You have entered number 1\n",
            "Invalid input, enter a number or 'stop'\n",
            "Enter a number(or stop to quit)3\n",
            "You have entered number 3\n",
            "Invalid input, enter a number or 'stop'\n",
            "Enter a number(or stop to quit)stop\n"
          ]
        }
      ],
      "source": [
        "# Use a while loop to print numbers until the user enters stop\n",
        "while True:\n",
        "  user_input= input(\"Enter a number(or stop to quit)\")\n",
        "  if user_input.lower() == 'stop':\n",
        "    break #quit\n",
        "  try:\n",
        "    number = int(user_input)\n",
        "    print(f\"You have entered number {number}\")\n",
        "  except: ValueError\n",
        "  print(\"Invalid input, enter a number or 'stop'\")\n"
      ]
    },
    {
      "cell_type": "code",
      "execution_count": null,
      "metadata": {
        "colab": {
          "base_uri": "https://localhost:8080/"
        },
        "id": "36tUT6ofnlxi",
        "outputId": "a8be4ff1-3bf3-4a48-b73a-a7805dca1693"
      },
      "outputs": [
        {
          "name": "stdout",
          "output_type": "stream",
          "text": [
            "1\n",
            "2\n",
            "3\n",
            "4\n",
            "5\n",
            "6\n",
            "7\n",
            "8\n",
            "9\n",
            "10\n",
            "11\n",
            "12\n",
            "13\n",
            "14\n",
            "15\n",
            "16\n",
            "17\n",
            "18\n",
            "19\n",
            "20\n"
          ]
        }
      ],
      "source": [
        "for i in range (1,21):\n",
        "  print(i)"
      ]
    },
    {
      "cell_type": "code",
      "execution_count": null,
      "metadata": {
        "id": "AQnolXN4nuOa"
      },
      "outputs": [],
      "source": [
        "# Explain what break and continue do in your own words.\n",
        "# 1: The  break is control flow statement that executes the loop in which it is being executed.\n",
        "# 2: The continue statement makes the loop to skip the preceding code and execute the code after it."
      ]
    },
    {
      "cell_type": "code",
      "execution_count": 9,
      "metadata": {
        "colab": {
          "base_uri": "https://localhost:8080/"
        },
        "id": "S7t3o3Vzo3Qe",
        "outputId": "e1e1e43f-795a-44b3-b44f-7a9201a061e9"
      },
      "outputs": [
        {
          "output_type": "stream",
          "name": "stdout",
          "text": [
            "0\n",
            "Too Low\n"
          ]
        }
      ],
      "source": [
        "# Write a guessing game that asks the user to guess a secret number between 1 and 10.\n",
        "\n",
        "# Give feedback (too high / too low)\n",
        "# Use a while loop\n",
        "number_input = input()\n",
        "while True:\n",
        "  if int(number_input) <= 0:\n",
        "    print(\"Too Low\")\n",
        "    break\n",
        "  elif 1<=int(number_input)<=10:\n",
        "    print(\"OK\")\n",
        "    break\n",
        "  else:\n",
        "    print(\"Too high\")\n",
        "    break"
      ]
    },
    {
      "cell_type": "code",
      "execution_count": null,
      "metadata": {
        "id": "Rayg6MR8qF-G"
      },
      "outputs": [],
      "source": []
    }
  ],
  "metadata": {
    "colab": {
      "provenance": [],
      "authorship_tag": "ABX9TyNjGQQ+nFA+Ky2LJnZUHnHQ",
      "include_colab_link": true
    },
    "kernelspec": {
      "display_name": "Python 3",
      "name": "python3"
    },
    "language_info": {
      "name": "python"
    }
  },
  "nbformat": 4,
  "nbformat_minor": 0
}