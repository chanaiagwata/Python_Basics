{
  "nbformat": 4,
  "nbformat_minor": 0,
  "metadata": {
    "colab": {
      "provenance": [],
      "authorship_tag": "ABX9TyPpVOFK/v/COnpoP4iLjU7/",
      "include_colab_link": true
    },
    "kernelspec": {
      "name": "python3",
      "display_name": "Python 3"
    },
    "language_info": {
      "name": "python"
    }
  },
  "cells": [
    {
      "cell_type": "markdown",
      "metadata": {
        "id": "view-in-github",
        "colab_type": "text"
      },
      "source": [
        "<a href=\"https://colab.research.google.com/github/chanaiagwata/Python_Basics/blob/main/Object_Oriented_Programming.ipynb\" target=\"_parent\"><img src=\"https://colab.research.google.com/assets/colab-badge.svg\" alt=\"Open In Colab\"/></a>"
      ]
    },
    {
      "cell_type": "code",
      "execution_count": 7,
      "metadata": {
        "colab": {
          "base_uri": "https://localhost:8080/"
        },
        "id": "f3keU1w-ao9o",
        "outputId": "bdc0620a-73f1-4717-8008-ca4b3481f91f"
      },
      "outputs": [
        {
          "output_type": "stream",
          "name": "stdout",
          "text": [
            "Name: Chanai\n",
            " Age: 28\n",
            " Grade: A\n"
          ]
        }
      ],
      "source": [
        "# 1. Class and Object Basics\n",
        "# Define a class named Student with the following attributes:\n",
        "# name\n",
        "# age\n",
        "# grade\n",
        "# Create a method display_info() that prints the student's details.\n",
        "# Create three student objects and call the method for each to display their details.\n",
        "\n",
        "class student:\n",
        "  def __init__(self, name, age, grade):\n",
        "    self.name = name\n",
        "    self.age = age\n",
        "    self.grade = grade\n",
        "  def display_info(self):\n",
        "    print (f\"Name: {self.name}\\n Age: {self.age}\\n Grade: {self.grade}\")\n",
        "\n",
        "student1 = student('Chanai',28, 'A')\n",
        "student1.display_info()"
      ]
    },
    {
      "cell_type": "code",
      "source": [
        "# Instance vs Class Methods\n",
        "# Define a class named BankAccount with:\n",
        "# account_number\n",
        "# balance\n",
        "# Add methods:\n",
        "# deposit(amount)\n",
        "# withdraw(amount)\n",
        "# display_balance()\n",
        "# Add a class variable to store the bank name and a class method to display the bank name.\n",
        "# Create two account objects and perform deposits and withdrawals.\n",
        "class account:\n",
        "  def __init__(self, account_number, balance=0):\n",
        "    self.balance = balance\n",
        "    self.account_number= account_number\n",
        "  def withdraw(self, amount):\n",
        "    if amount <= self.balance:\n",
        "      self.balance = self.balance-amount\n",
        "      print(f\"KES {amount} debited, your new balance is {self.balance}\")\n",
        "    else:\n",
        "      print(\"insufficient balance\")\n",
        "  def deposit(self, amount):\n",
        "    if amount > 0:\n",
        "      self.balance = self.balance+amount\n",
        "      print(f\"KES {amount} credited, your new balance is {self.balance}\")\n",
        "    else:\n",
        "      print(\"invalid amount\")\n",
        "  def balance(self):\n",
        "      print(f\"your balance is {self.balance}\")\n",
        "class bank_name:\n",
        "  def __init__(self, b_name):\n",
        "    self.b_name = b_name\n",
        "  def display_bank_name(self):\n",
        "    print({self.bank_name})\n",
        "\n",
        "# create object\n",
        "Account1 = account('01000400500', 5000)\n",
        "Bank_Name1 = bank_name('Stanbic')\n",
        "# Show the balance after each debit and credit operationa\n",
        "Account1.balance\n",
        "print(Account1.withdraw(1000)),\n",
        "print(Account1.deposit(500)),\n",
        "print(f\"Your account balance is KES {Account1.balance}\")\n",
        "print(f\"Your bank is {Bank_Name1.b_name}\")"
      ],
      "metadata": {
        "colab": {
          "base_uri": "https://localhost:8080/"
        },
        "id": "a9e2_6EFjBj8",
        "outputId": "3bce4964-5c5b-4b97-e29f-e69293d41f56"
      },
      "execution_count": 7,
      "outputs": [
        {
          "output_type": "stream",
          "name": "stdout",
          "text": [
            "KES 1000 debited, your new balance is 4000\n",
            "None\n",
            "KES 500 credited, your new balance is 4500\n",
            "None\n",
            "Your account balance is KES 4500\n",
            "Your bank is Stanbic\n"
          ]
        }
      ]
    },
    {
      "cell_type": "code",
      "source": [],
      "metadata": {
        "id": "Exkde6VGi9v8"
      },
      "execution_count": null,
      "outputs": []
    }
  ]
}