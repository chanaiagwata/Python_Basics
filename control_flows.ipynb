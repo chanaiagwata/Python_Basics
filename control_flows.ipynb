{
  "nbformat": 4,
  "nbformat_minor": 0,
  "metadata": {
    "colab": {
      "provenance": [],
      "authorship_tag": "ABX9TyPhdSqY26g+xFCV3Wir6VU6",
      "include_colab_link": true
    },
    "kernelspec": {
      "name": "python3",
      "display_name": "Python 3"
    },
    "language_info": {
      "name": "python"
    }
  },
  "cells": [
    {
      "cell_type": "markdown",
      "metadata": {
        "id": "view-in-github",
        "colab_type": "text"
      },
      "source": [
        "<a href=\"https://colab.research.google.com/github/chanaiagwata/Python_Basics/blob/main/control_flows.ipynb\" target=\"_parent\"><img src=\"https://colab.research.google.com/assets/colab-badge.svg\" alt=\"Open In Colab\"/></a>"
      ]
    },
    {
      "cell_type": "code",
      "execution_count": 11,
      "metadata": {
        "colab": {
          "base_uri": "https://localhost:8080/"
        },
        "id": "1F3gqEo-qaUr",
        "outputId": "df2f95a4-b896-4df3-9e7e-9e5b96293d0c"
      },
      "outputs": [
        {
          "output_type": "stream",
          "name": "stdout",
          "text": [
            "Zero\n",
            "Positive\n",
            "Negative\n",
            "Positive\n",
            "Negative\n",
            "Positive\n"
          ]
        }
      ],
      "source": [
        "# Write a program that checks if a number is positive, negative, or zero.\n",
        "numbers = [0,6,-10,8,-4,9]\n",
        "for num in numbers:\n",
        "  if num == 0:\n",
        "    print('Zero')\n",
        "  elif num >=1:\n",
        "    print('Positive')\n",
        "  else:\n",
        "    print('Negative')"
      ]
    },
    {
      "cell_type": "code",
      "source": [
        "# Create a program that checks if someone is eligible to vote.\n",
        "while True:\n",
        "  age =int(input('Your age'))\n",
        "  if age < 18:\n",
        "    print('Not eligible to vote')\n",
        "    break\n",
        "  else:\n",
        "    id = int(input('Your ID'))\n",
        "    print(\"You're eligible to vote\")\n",
        "    break\n",
        "\n"
      ],
      "metadata": {
        "colab": {
          "base_uri": "https://localhost:8080/"
        },
        "id": "jUhUFa6tstEQ",
        "outputId": "e6e315c2-4b3f-49cf-de4f-0b2908163d26"
      },
      "execution_count": 17,
      "outputs": [
        {
          "output_type": "stream",
          "name": "stdout",
          "text": [
            "Your age20\n",
            "Your ID232321232322\n",
            "You're eligible to vote\n"
          ]
        }
      ]
    },
    {
      "cell_type": "code",
      "source": [
        "numbers = []\n",
        "while True:\n",
        "  num1 = numbers.append(int(input('Enter first number ')))\n",
        "  num2 = numbers.append(int(input('Enter second number ')))\n",
        "  num3 = numbers.append(int(input('Enter third number ')))\n",
        "  print(max(numbers))\n",
        "  break"
      ],
      "metadata": {
        "colab": {
          "base_uri": "https://localhost:8080/"
        },
        "id": "MJJKdiY0Fcaz",
        "outputId": "1c609ae3-99a1-4be7-bc2c-25fd962a20cc"
      },
      "execution_count": 25,
      "outputs": [
        {
          "output_type": "stream",
          "name": "stdout",
          "text": [
            "Enter first number 1\n",
            "Enter second number 4\n",
            "Enter third number 3\n",
            "4\n"
          ]
        }
      ]
    },
    {
      "cell_type": "code",
      "source": [
        "# Practice combining and, or, not.\n",
        "customer_nationality = [\"Indian\",\"ugandan\",\"kenyan\",\"Ukrainian\",\"Russia\",\"German\",\"British\"]\n",
        "# account = ['savings', 'checking']\n",
        "while True:\n",
        "  country_of_birth = input(\"Enter your country of birth\")\n",
        "  account_status = input(\"Do you have a savings or a checking account with us?(If none, indicate 'NO')\")\n",
        "  income = int(input(\"Enter your income\"))\n",
        "  if  country_of_birth == customer_nationality[2] or customer_nationality[6] and account_status != 'NO' and income > 15000:\n",
        "    print(\"High networth\")\n",
        "    break\n",
        "  else:\n",
        "    print(\"Mass Market\" )\n",
        "    break\n"
      ],
      "metadata": {
        "colab": {
          "base_uri": "https://localhost:8080/"
        },
        "id": "lp7rAWG4Hflv",
        "outputId": "9d62e427-28d9-4a13-b188-57c6a7128edf"
      },
      "execution_count": 34,
      "outputs": [
        {
          "output_type": "stream",
          "name": "stdout",
          "text": [
            "Enter your country of birthugandan\n",
            "Do you have a savings or a checking account with us?(If none, indicate 'NO')No\n",
            "Enter your income400\n",
            "Mass Market\n"
          ]
        }
      ]
    },
    {
      "cell_type": "markdown",
      "source": [],
      "metadata": {
        "id": "wxD0cmelKIv1"
      }
    },
    {
      "cell_type": "code",
      "source": [
        "# Build a grading system:\n",
        "\n",
        "# Input score (0–100)\n",
        "# Output grade: A (90+), B (80–89), etc.\n",
        "while True:\n",
        "  score = int(input (\"Enter your score\"))\n",
        "  if score <= 25:\n",
        "    print(\"D (0-25)\")\n",
        "    break\n",
        "  elif score <=50:\n",
        "    print(\"C (26-50)\")\n",
        "    break\n",
        "  elif score <=75:\n",
        "    print(\"B (51-75)\")\n",
        "    break\n",
        "  else:\n",
        "    print(\"A (75+)\")\n",
        "    break\n"
      ],
      "metadata": {
        "colab": {
          "base_uri": "https://localhost:8080/"
        },
        "id": "iVtd3t-yLvPH",
        "outputId": "4a9ec124-3fba-461d-b4ef-a571b5e84f4e"
      },
      "execution_count": 40,
      "outputs": [
        {
          "output_type": "stream",
          "name": "stdout",
          "text": [
            "Enter your score56\n",
            "B (51-75)\n"
          ]
        }
      ]
    }
  ]
}