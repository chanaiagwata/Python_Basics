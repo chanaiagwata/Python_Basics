{
  "nbformat": 4,
  "nbformat_minor": 0,
  "metadata": {
    "colab": {
      "provenance": [],
      "authorship_tag": "ABX9TyOhmVSeUDaK1pQIVmETA5bb",
      "include_colab_link": true
    },
    "kernelspec": {
      "name": "python3",
      "display_name": "Python 3"
    },
    "language_info": {
      "name": "python"
    }
  },
  "cells": [
    {
      "cell_type": "markdown",
      "metadata": {
        "id": "view-in-github",
        "colab_type": "text"
      },
      "source": [
        "<a href=\"https://colab.research.google.com/github/chanaiagwata/Python_Basics/blob/main/functions.ipynb\" target=\"_parent\"><img src=\"https://colab.research.google.com/assets/colab-badge.svg\" alt=\"Open In Colab\"/></a>"
      ]
    },
    {
      "cell_type": "code",
      "execution_count": 3,
      "metadata": {
        "colab": {
          "base_uri": "https://localhost:8080/"
        },
        "id": "QUT3ljFGO39I",
        "outputId": "8ff6c576-b893-422e-8d7e-c99f66345ec4"
      },
      "outputs": [
        {
          "output_type": "stream",
          "name": "stdout",
          "text": [
            "Hello,Chanai\n"
          ]
        }
      ],
      "source": [
        "# Write a function greet(name) that prints “Hello, [name]”.\n",
        "def greet(name):\n",
        "  print(f\"Hello,{name}\")\n",
        "\n",
        "greet('Chanai')"
      ]
    },
    {
      "cell_type": "code",
      "source": [
        "# Create a function add(a, b) that returns the sum.\n",
        "def add(a,b):\n",
        "  print(a+b)\n",
        "\n",
        "add(1,2)\n"
      ],
      "metadata": {
        "colab": {
          "base_uri": "https://localhost:8080/"
        },
        "id": "oK3Yj1PzQrPt",
        "outputId": "4994d1bf-7a06-4b51-9b59-cacbfc3b0ac6"
      },
      "execution_count": 4,
      "outputs": [
        {
          "output_type": "stream",
          "name": "stdout",
          "text": [
            "3\n"
          ]
        }
      ]
    },
    {
      "cell_type": "code",
      "source": [
        "# Modify add() to print “even” or “odd” based on the result.\n",
        "def add(a,b):\n",
        "  result = a+b\n",
        "  print(result)\n",
        "  if result%2 != 0:\n",
        "    print(\"odd\")\n",
        "  else :\n",
        "    print(\"even\")\n",
        "add(1,2)"
      ],
      "metadata": {
        "colab": {
          "base_uri": "https://localhost:8080/"
        },
        "id": "gx8PAq6rQ9V_",
        "outputId": "e57891fa-fa04-4d68-b39d-49308c0a2fe5"
      },
      "execution_count": 26,
      "outputs": [
        {
          "output_type": "stream",
          "name": "stdout",
          "text": [
            "3\n",
            "odd\n"
          ]
        }
      ]
    },
    {
      "cell_type": "code",
      "source": [
        "# Call a function from within another function.\n",
        "def add(a,b):\n",
        "  result = a+b\n",
        "  print(result)\n",
        "  def divisible_by2():\n",
        "    print(\"Number is divisible by 2, hence even\")\n",
        "  if result%2 != 0:\n",
        "    print(\"odd\")\n",
        "  else :\n",
        "      divisible_by2()\n",
        "add(4,2)\n"
      ],
      "metadata": {
        "colab": {
          "base_uri": "https://localhost:8080/"
        },
        "id": "c4TE09mmTR0n",
        "outputId": "889d4f75-3079-45f5-9d40-06e9ba411c28"
      },
      "execution_count": 38,
      "outputs": [
        {
          "output_type": "stream",
          "name": "stdout",
          "text": [
            "6\n",
            "Number is divisible by 2, hence even\n"
          ]
        }
      ]
    },
    {
      "cell_type": "code",
      "source": [
        "# Challenge\n",
        "# Write a calculator function:\n",
        "# Takes two numbers and an operation (+, -, *, /)\n",
        "# Returns the result\n",
        "def caculator ():\n",
        "  number_one = int(input('Enter number '))\n",
        "  operation = input('Choose the operation you want (+, -, *, /)')\n",
        "  number_two = int(input('Enter another number '))\n",
        "  if operation == '+':\n",
        "    print(number_one+number_two)\n",
        "  elif operation == '-':\n",
        "    print(number_one - number_two)\n",
        "  elif operation == '*':\n",
        "    print(number_one * number_two)\n",
        "  elif operation == '/':\n",
        "    print(number_one / number_two)\n",
        "  else:\n",
        "    print(\"Wrong Operation\")\n",
        "\n",
        "caculator ()"
      ],
      "metadata": {
        "colab": {
          "base_uri": "https://localhost:8080/"
        },
        "id": "hH9VwvT2Vj7O",
        "outputId": "339d3e4b-c296-40b9-da0d-d72fc9c8dcc3"
      },
      "execution_count": 46,
      "outputs": [
        {
          "output_type": "stream",
          "name": "stdout",
          "text": [
            "Enter number 4\n",
            "Choose the operation you want (+, -, *, /)-\n",
            "Enter another number 2\n",
            "2\n"
          ]
        }
      ]
    }
  ]
}